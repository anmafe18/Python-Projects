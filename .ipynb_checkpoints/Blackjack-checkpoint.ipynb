{
 "cells": [
  {
   "cell_type": "markdown",
   "id": "1bdb6c79",
   "metadata": {},
   "source": [
    "### Simulación Blackjack"
   ]
  },
  {
   "cell_type": "code",
   "execution_count": 36,
   "id": "21f7bd61",
   "metadata": {},
   "outputs": [],
   "source": [
    "import numpy as np"
   ]
  },
  {
   "cell_type": "code",
   "execution_count": 37,
   "id": "f6630786",
   "metadata": {},
   "outputs": [],
   "source": [
    "jack=10\n",
    "queen=10\n",
    "king=10\n",
    "ace=11\n",
    "suit=[2,3,4,5,6,7,8,9,10,jack,queen,king,ace]\n",
    "deck=4*suit\n",
    "p_deck=2*deck\n"
   ]
  },
  {
   "cell_type": "code",
   "execution_count": 38,
   "id": "fcbd2baa",
   "metadata": {},
   "outputs": [],
   "source": [
    "def round():\n",
    "    h_p=[]\n",
    "    h_d=[]\n",
    "    h_p.append(np.random.choice(p_deck,replace=False))\n",
    "    h_d.append(np.random.choice(p_deck,replace=False))\n",
    "    h_p.append(np.random.choice(p_deck,replace=False))\n",
    "    h_d.append(np.random.choice(p_deck,replace=False))\n",
    "    \n",
    "    #print('Tus cartas son:', h_p)\n",
    "    \n",
    "    \n",
    "    p_p=sum(h_p)\n",
    "    p_d=sum(h_d)\n",
    "    \n",
    "    #print('Las cartas del dealer son:', h_d)\n",
    "    \n",
    "    if p_p>p_d:\n",
    "        res=\"Ganaste\"\n",
    "    elif p_p==p_d:\n",
    "        res=\"Empataste\"\n",
    "    else:\n",
    "        res=\"Perdiste\"\n",
    "    return res"
   ]
  },
  {
   "cell_type": "code",
   "execution_count": 39,
   "id": "247937b9",
   "metadata": {},
   "outputs": [
    {
     "name": "stdout",
     "output_type": "stream",
     "text": [
      "Jugaste 10000 veces. Ganaste 4605, empataste 720, y perdiste 4675.\n"
     ]
    }
   ],
   "source": [
    "sim=[]\n",
    "n_sim=10000\n",
    "for i in range(n_sim):\n",
    "    sim.append(round())\n",
    "ng=sim.count(\"Ganaste\")\n",
    "ne=sim.count(\"Empataste\")\n",
    "np=sim.count(\"Perdiste\")\n",
    "print(f'Jugaste {n_sim} veces. Ganaste {ng}, empataste {ne}, y perdiste {np}.')"
   ]
  }
 ],
 "metadata": {
  "kernelspec": {
   "display_name": "Python 3",
   "language": "python",
   "name": "python3"
  },
  "language_info": {
   "codemirror_mode": {
    "name": "ipython",
    "version": 3
   },
   "file_extension": ".py",
   "mimetype": "text/x-python",
   "name": "python",
   "nbconvert_exporter": "python",
   "pygments_lexer": "ipython3",
   "version": "3.8.8"
  }
 },
 "nbformat": 4,
 "nbformat_minor": 5
}
