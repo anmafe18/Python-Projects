{
 "cells": [
  {
   "cell_type": "markdown",
   "metadata": {},
   "source": [
    "### Tarea"
   ]
  },
  {
   "cell_type": "markdown",
   "metadata": {},
   "source": [
    "Creen una clase POKEMON, y simulen una batalla pokemon utilizando una funcion 'batalla'"
   ]
  },
  {
   "cell_type": "code",
   "execution_count": 1,
   "metadata": {},
   "outputs": [],
   "source": [
    "import numpy as np"
   ]
  },
  {
   "cell_type": "code",
   "execution_count": 2,
   "metadata": {},
   "outputs": [],
   "source": [
    "class POKEMON:\n",
    "    def __init__(self,name,type1,move,spd,atk,df,hp):\n",
    "        self.name=name\n",
    "        self.type1=type1\n",
    "        self.move=move\n",
    "        self.spd=spd\n",
    "        self.atk=atk\n",
    "        self.df=df\n",
    "        self.hp=hp       \n",
    "    \n",
    "    #Función para calcular el daño\n",
    "    def damage(self,op_pkm):\n",
    "        #Condiciones para establecer la efectividad de tipo y su respectivo multiplicador de daño\n",
    "        if self.type1==op_pkm.type1:\n",
    "            tp_ef=1\n",
    "        elif self.type1=='fire':\n",
    "            if op_pkm.type1=='grass':\n",
    "                tp_ef=2                \n",
    "            elif op_pkm.type1=='water':\n",
    "                tp_ef=1/2\n",
    "        elif self.type1=='water':\n",
    "            if op_pkm.type1=='fire':\n",
    "                tp_ef=2\n",
    "            elif op_pkm.type1=='grass':\n",
    "                tp_ef=1/2\n",
    "        elif self.type1=='grass':\n",
    "            if op_pkm.type1=='water':\n",
    "                tp_ef=2\n",
    "            elif op_pkm.type1=='fire':\n",
    "                tp_ef=1/2   \n",
    "        #Texto a imprimir con base en la efectividad de tipo\n",
    "        if tp_ef==1:\n",
    "            inf=' '\n",
    "        elif tp_ef==2:\n",
    "            inf='Its super effective!'\n",
    "        else:\n",
    "            inf='Its not very effective...'\n",
    "        #Un multiplicador más para el cálculo del daño\n",
    "        rnd=(np.random.randint(85,100))/100\n",
    "        #Usando una fórmula simplificada del cálculo de daño de los juegos\n",
    "        dmg=round(((22*40*(self.atk/op_pkm.df)/50)+2)*rnd*1.5*tp_ef)\n",
    "        return dmg, inf"
   ]
  },
  {
   "cell_type": "code",
   "execution_count": 11,
   "metadata": {},
   "outputs": [],
   "source": [
    "def battle(pkm1,pkm2):\n",
    "    print(\"Your rival has challenged you to a battle!\")\n",
    "    print(f'\"Go {pkm1.name}!\"')\n",
    "    print(f'Your opponent sent out {pkm2.name}.')    \n",
    "    while pkm1.hp > 0 and pkm2.hp > 0:\n",
    "        #Establece el orden de ataques con base en la velocidad de los 2 pokemon\n",
    "        if pkm1.spd > pkm2.spd:            \n",
    "            atk1=pkm1.damage(pkm2)\n",
    "            print(f'{pkm1.name} used {pkm1.move}!')\n",
    "            print(atk1[1])\n",
    "            pkm2.hp=pkm2.hp-atk1[0]            \n",
    "            if pkm2.hp<=0:\n",
    "                print(f'{pkm2.name} has fainted.')\n",
    "                print('You win!')\n",
    "                cash=np.random.choice(5000)\n",
    "                print(f'Your opponent paid you ${cash}.')\n",
    "                break          \n",
    "            print(f'{pkm2.name} has {pkm2.hp} HP left.')\n",
    "            atk2=pkm2.damage(pkm1)\n",
    "            print(f'{pkm2.name} used {pkm2.move}!')\n",
    "            print(atk2[1])\n",
    "            pkm1.hp=pkm1.hp-atk2[0]            \n",
    "            if pkm1.hp<=0:\n",
    "                print(f'{pkm1.name} has fainted.')\n",
    "                print('Your opponent wins...')\n",
    "                break\n",
    "            print(f'{pkm1.name} has {pkm1.hp} HP left.')\n",
    "        else:\n",
    "            atk2=pkm2.damage(pkm1)\n",
    "            print(f'{pkm2.name} used {pkm2.move}!')\n",
    "            print(atk2[1])\n",
    "            pkm1.hp=pkm1.hp-atk2[0]            \n",
    "            if pkm1.hp<=0:\n",
    "                print(f'{pkm1.name} has fainted.')\n",
    "                print('Your opponent wins...')\n",
    "                break\n",
    "            print(f'{pkm1.name} has {pkm1.hp} HP left.')\n",
    "            atk1=pkm1.damage(pkm2)\n",
    "            print(f'{pkm1.name} used {pkm1.move}!')\n",
    "            print(atk1[1])\n",
    "            pkm2.hp=pkm2.hp-atk1[0]            \n",
    "            if pkm2.hp<=0:\n",
    "                print(f'{pkm2.name} has fainted.')\n",
    "                print('You win!')\n",
    "                cash=np.random.choice(5000)\n",
    "                print(f'Your opponent paid you ${cash}.')\n",
    "                break\n",
    "            print(f'{pkm2.name} has {pkm2.hp} HP left.')"
   ]
  },
  {
   "cell_type": "code",
   "execution_count": 12,
   "metadata": {},
   "outputs": [],
   "source": [
    "#Estas estadísticas originalmente dependen de parámetros que no se incluyen en este código\n",
    "#Aquí se eligen al azar del rango de valores reales\n",
    "CHARMANDER=POKEMON('CHARMANDER','fire','Ember',np.random.randint(63,128),np.random.randint(51,114),np.random.randint(43,104),np.random.randint(99,146))\n",
    "SQUIRTLE=POKEMON('SQUIRTLE','water','Bubble',np.random.randint(43,104),np.random.randint(47,110),np.random.randint(63,128),np.random.randint(104,151))\n",
    "#SQUIRTLE2=POKEMON('SQUIRTLE2','water','Bubble',np.random.randint(43,104),np.random.randint(47,110),np.random.randint(63,128),np.random.randint(104,151))\n",
    "BULBASAUR=POKEMON('BULBASAUR','grass','Absorb',np.random.randint(45,106),np.random.randint(48,111),np.random.randint(48,111),np.random.randint(105,152))"
   ]
  },
  {
   "cell_type": "code",
   "execution_count": 13,
   "metadata": {},
   "outputs": [
    {
     "name": "stdout",
     "output_type": "stream",
     "text": [
      "Your rival has challenged you to a battle!\n",
      "\"Go CHARMANDER!\"\n",
      "Your opponent sent out BULBASAUR.\n",
      "BULBASAUR used Absorb!\n",
      "Its not very effective...\n",
      "CHARMANDER has 99 HP left.\n",
      "CHARMANDER used Ember!\n",
      "Its super effective!\n",
      "BULBASAUR has 89 HP left.\n",
      "BULBASAUR used Absorb!\n",
      "Its not very effective...\n",
      "CHARMANDER has 83 HP left.\n",
      "CHARMANDER used Ember!\n",
      "Its super effective!\n",
      "BULBASAUR has 41 HP left.\n",
      "BULBASAUR used Absorb!\n",
      "Its not very effective...\n",
      "CHARMANDER has 69 HP left.\n",
      "CHARMANDER used Ember!\n",
      "Its super effective!\n",
      "BULBASAUR has fainted.\n",
      "You win!\n",
      "Your opponent paid you $4489.\n"
     ]
    }
   ],
   "source": [
    "battle(CHARMANDER,BULBASAUR)"
   ]
  },
  {
   "cell_type": "code",
   "execution_count": null,
   "metadata": {},
   "outputs": [],
   "source": []
  }
 ],
 "metadata": {
  "kernelspec": {
   "display_name": "Python 3",
   "language": "python",
   "name": "python3"
  },
  "language_info": {
   "codemirror_mode": {
    "name": "ipython",
    "version": 3
   },
   "file_extension": ".py",
   "mimetype": "text/x-python",
   "name": "python",
   "nbconvert_exporter": "python",
   "pygments_lexer": "ipython3",
   "version": "3.8.8"
  }
 },
 "nbformat": 4,
 "nbformat_minor": 4
}
