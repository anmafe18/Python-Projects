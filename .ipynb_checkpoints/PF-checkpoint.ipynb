{
 "cells": [
  {
   "cell_type": "markdown",
   "id": "0d82e7ed",
   "metadata": {},
   "source": [
    "# Personal Finance V1"
   ]
  },
  {
   "cell_type": "code",
   "execution_count": 2,
   "id": "8b0d5c6d",
   "metadata": {},
   "outputs": [],
   "source": [
    "#numeric and data manipulation\n",
    "import numpy as np\n",
    "import pandas as pd\n",
    "\n",
    "#graphs\n",
    "import matplotlib.pyplot as plt\n",
    "import seaborn as sns"
   ]
  },
  {
   "cell_type": "markdown",
   "id": "2213d91b",
   "metadata": {},
   "source": [
    "## Finance"
   ]
  },
  {
   "cell_type": "markdown",
   "id": "d2dab5b0",
   "metadata": {},
   "source": [
    "### Expenses"
   ]
  },
  {
   "cell_type": "markdown",
   "id": "76cb0045",
   "metadata": {},
   "source": [
    "1. Fixed\n",
    "2. Variable\n",
    "3. Investments"
   ]
  },
  {
   "cell_type": "code",
   "execution_count": 4,
   "id": "bbe7cc54",
   "metadata": {},
   "outputs": [],
   "source": [
    "expenses = {\n",
    "    'fixed': 20000,\n",
    "    'variable': 6000,\n",
    "    'investment': 14000\n",
    "}"
   ]
  },
  {
   "cell_type": "markdown",
   "id": "2898d22e",
   "metadata": {},
   "source": [
    "### Incomes"
   ]
  },
  {
   "cell_type": "code",
   "execution_count": 5,
   "id": "4b3d88ae",
   "metadata": {},
   "outputs": [],
   "source": [
    "incomes = {\n",
    "    'fixed': 40000,\n",
    "    'variable': 40000/3\n",
    "}"
   ]
  },
  {
   "cell_type": "markdown",
   "id": "ce43f5eb",
   "metadata": {},
   "source": [
    "## Personal Finance Class"
   ]
  },
  {
   "cell_type": "code",
   "execution_count": 31,
   "id": "6da21f51",
   "metadata": {},
   "outputs": [],
   "source": [
    "class PersonalFinance:\n",
    "    def __init__(self,expenses,incomes,initial_savings):\n",
    "        self.expenses = expenses\n",
    "        self.incomes = incomes\n",
    "        self.savings = initial_savings\n",
    "    \n",
    "    def totals(self,report=True):\n",
    "        suma1 = 0 #for expenses\n",
    "        suma2 = 0 #for incomes\n",
    "        for k in self.expenses.keys():\n",
    "            suma1 = suma1 + self.expenses[k]\n",
    "        for k in self.incomes.keys():\n",
    "            suma2 = suma2 + self.incomes[k]\n",
    "        if report:\n",
    "            print(f'Total Expenses: {suma1}')\n",
    "            print(f'Total Incomes: {suma2}')\n",
    "        return suma1, suma2 \n",
    "    \n",
    "    def balance(self,report=True):\n",
    "        b = self.totals(report=False)\n",
    "        s = b[1] - b[0]\n",
    "        self.savings = self.savings + s\n",
    "        if report:\n",
    "            print(f'Saving: {s}')\n",
    "            print(f'Balance: {self.savings}')\n",
    "    \n",
    "    def predict(self,t):\n",
    "        s0 = self.savings\n",
    "        savings_list = [s0]\n",
    "        for i in range(t):\n",
    "            self.balance(report=False)\n",
    "            s = self.savings\n",
    "            savings_list.append(s)\n",
    "        self.savings = s0\n",
    "        \n",
    "        plt.figure(figsize = (6,4))\n",
    "        \n",
    "        plt.title(f'My savings in {t} months')\n",
    "        plt.xlabel('Months')\n",
    "        plt.ylabel('Savings $')\n",
    "        plt.gca().yaxis.set_major_formatter(plt.matplotlib.ticker.StrMethodFormatter('{x:,.0f}'))\n",
    "        \n",
    "        plt.plot(range(t+1),savings_list)\n",
    "        \n",
    "        \n",
    "        plt.show()"
   ]
  },
  {
   "cell_type": "markdown",
   "id": "d349bc68",
   "metadata": {},
   "source": [
    "### Initialize"
   ]
  },
  {
   "cell_type": "code",
   "execution_count": 32,
   "id": "f3df7cdf",
   "metadata": {},
   "outputs": [],
   "source": [
    "pf=PersonalFinance(expenses,incomes,10000)"
   ]
  },
  {
   "cell_type": "code",
   "execution_count": 35,
   "id": "98258f14",
   "metadata": {},
   "outputs": [
    {
     "data": {
      "image/png": "[encoded data removed]",
      "text/plain": [
       "<Figure size 432x288 with 1 Axes>"
      ]
     },
     "metadata": {
      "needs_background": "light"
     },
     "output_type": "display_data"
    }
   ],
   "source": [
    "pf.predict(36)"
   ]
  }
 ],
 "metadata": {
  "kernelspec": {
   "display_name": "Python 3",
   "language": "python",
   "name": "python3"
  },
  "language_info": {
   "codemirror_mode": {
    "name": "ipython",
    "version": 3
   },
   "file_extension": ".py",
   "mimetype": "text/x-python",
   "name": "python",
   "nbconvert_exporter": "python",
   "pygments_lexer": "ipython3",
   "version": "3.8.8"
  }
 },
 "nbformat": 4,
 "nbformat_minor": 5
}
