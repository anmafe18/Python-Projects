{
 "cells": [
  {
   "cell_type": "markdown",
   "id": "36df16ba",
   "metadata": {},
   "source": [
    "# Finance API"
   ]
  },
  {
   "cell_type": "markdown",
   "id": "97e63f37",
   "metadata": {},
   "source": [
    "#### Packages"
   ]
  },
  {
   "cell_type": "code",
   "execution_count": 1,
   "id": "a1e7ac01",
   "metadata": {},
   "outputs": [],
   "source": [
    "#data\n",
    "import numpy as np\n",
    "import pandas as pd\n",
    "#graph manip\n",
    "import seaborn as sns\n",
    "import matplotlib.pyplot as plt\n",
    "#yahoo finance API interaction\n",
    "import yfinance as yf"
   ]
  },
  {
   "cell_type": "markdown",
   "id": "a87d4605",
   "metadata": {},
   "source": [
    "#### Class Construction"
   ]
  },
  {
   "cell_type": "code",
   "execution_count": 27,
   "id": "19461d1d",
   "metadata": {},
   "outputs": [],
   "source": [
    "class Portfolio:\n",
    "    \n",
    "    def __init__(self,inputs):        \n",
    "        self.inputs = inputs\n",
    "        p_name = self.inputs['portfolio_name']\n",
    "        print(f'Active - {p_name} - portfolio')\n",
    "        \n",
    "        #auto tick download\n",
    "        self.ticks={}\n",
    "        self.download_ticks()\n",
    "        \n",
    "    #class description\n",
    "    def __repr__(self):\n",
    "        return'Smart Portfolio for Manipulation of Financial Assets'\n",
    "    \n",
    "    #show potfolio's ticks' info\n",
    "    def show_ticks(self):\n",
    "        for i in range(len(self.inputs['ticks'])):\n",
    "            tick_name = self.inputs['ticks'][i]\n",
    "            print(f'{i+1} - {tick_name}')\n",
    "            \n",
    "    #download ticks\n",
    "    def download_ticks(self):\n",
    "        for tick in self.inputs['ticks']:\n",
    "            t = yf.Ticker(tick)\n",
    "            self.ticks[tick] = t\n",
    "            \n",
    "    #graph ticks' timeseries        \n",
    "    def tick_value(self,tick):\n",
    "        data = self.ticks[tick].history(period='YTD')\n",
    "        plt.figure(figsize = (8,6))\n",
    "        plt.title(f'{tick} - YTD historical close values')\n",
    "        plt.plot(data.index,data['Close'])\n",
    "        plt.show()\n",
    "        \n",
    "    #graphs ALL ticks\n",
    "    def ticks_values(self):\n",
    "        plt.figure(figsize = (12,8))\n",
    "        plt.title('Portfolio Ticks - YTD historical timeseries')\n",
    "        for tick in self.ticks:\n",
    "            data = self.ticks[tick].history(period='YTD')\n",
    "            plt.plot(data.index,data['Close'],label=tick)\n",
    "        plt.legend()\n",
    "        plt.show()\n",
    "        \n",
    "    #graphs specific tick's timeseries yield    \n",
    "    def tick_return(self,tick):\n",
    "        data = self.ticks[tick].history(period='YTD')\n",
    "        data['returns'] = data['Close'].pct_change()\n",
    "        \n",
    "        #timeseries yield\n",
    "        plt.figure(figsize = (8,6))\n",
    "        plt.title(f'{tick} - YTD historical returns')\n",
    "        plt.plot(data.index,data['returns'])\n",
    "        plt.show()\n",
    "        \n",
    "        #histogram yield\n",
    "        plt.figure()\n",
    "        sns.histplot(data=data['returns'])\n",
    "        plt.show()\n",
    "        \n",
    "    #graphs all ticks' yields \n",
    "    def ticks_returns(self):\n",
    "        plt.figure(figsize = (12,8))\n",
    "        plt.title('Portfolio Ticks - YTD historical returns')\n",
    "        for tick in self.ticks:\n",
    "            data = self.ticks[tick].history(period='YTD')\n",
    "            data['returns'] = data['Close'].pct_change()\n",
    "            plt.plot(data.index,data['returns'],label=tick)\n",
    "        plt.legend()\n",
    "        plt.show()\n",
    "        \n",
    "    #correlation info between 2 ticks    \n",
    "    def compare_ticks(self,tick1,tick2):\n",
    "        \n",
    "        #ticks' data\n",
    "        data_t1 = self.ticks[tick1].history(period='YTD')\n",
    "        data_t1['returns'] = data_t1['Close'].pct_change()\n",
    "        data_t2 = self.ticks[tick2].history(period='YTD')\n",
    "        data_t2['returns'] = data_t2['Close'].pct_change()\n",
    "        \n",
    "        #graph\n",
    "        plt.figure(figsize = (10,8))\n",
    "        plt.title(f'Correlation of returns between {tick1} and {tick2}')\n",
    "        plt.xlabel(tick1)\n",
    "        plt.ylabel(tick2)\n",
    "        \n",
    "        plt.plot(data_t1['returns'],data_t2['returns'],'o')\n",
    "        \n",
    "        plt.show()\n",
    "        \n",
    "        #correlation index\n",
    "        corr_index = data_t1['returns'].corr(data_t2['returns'])\n",
    "        \n",
    "        print(f'The correlation index between {tick1} and {tick2} is: {corr_index}')\n",
    "        \n",
    "        \n",
    "    #return tick info\n",
    "    def tick_info(self,tick):\n",
    "        target_tick = self.ticks[tick]\n",
    "        return target_tick.info\n",
    "        "
   ]
  },
  {
   "cell_type": "markdown",
   "id": "abbe1527",
   "metadata": {},
   "source": [
    "#### API Connection\n",
    "\n",
    "Download market data from Yahoo! Finance's API"
   ]
  },
  {
   "cell_type": "code",
   "execution_count": 26,
   "id": "705136e2",
   "metadata": {},
   "outputs": [],
   "source": [
    "spy = yf.Ticker('SPY')"
   ]
  },
  {
   "cell_type": "markdown",
   "id": "1cbe39c2",
   "metadata": {},
   "source": [
    "#### App"
   ]
  },
  {
   "cell_type": "code",
   "execution_count": 28,
   "id": "d933c5ca",
   "metadata": {},
   "outputs": [],
   "source": [
    "parameters = {\n",
    "    'portfolio_name': 'Mayo',\n",
    "    'ticks': ['SPY','META','AMZN','LIT','URA','TSLA']\n",
    "}"
   ]
  },
  {
   "cell_type": "code",
   "execution_count": 29,
   "id": "51b991f4",
   "metadata": {},
   "outputs": [
    {
     "name": "stdout",
     "output_type": "stream",
     "text": [
      "Active - Mayo - portfolio\n"
     ]
    }
   ],
   "source": [
    "port = Portfolio(parameters)"
   ]
  },
  {
   "cell_type": "code",
   "execution_count": 30,
   "id": "8b8ccb9e",
   "metadata": {},
   "outputs": [
    {
     "name": "stdout",
     "output_type": "stream",
     "text": [
      "Smart Portfolio for Manipulation of Financial Assets\n"
     ]
    }
   ],
   "source": [
    "print(port)"
   ]
  },
  {
   "cell_type": "code",
   "execution_count": 31,
   "id": "43a15e64",
   "metadata": {},
   "outputs": [
    {
     "name": "stdout",
     "output_type": "stream",
     "text": [
      "1 - SPY\n",
      "2 - META\n",
      "3 - AMZN\n",
      "4 - LIT\n",
      "5 - URA\n",
      "6 - TSLA\n"
     ]
    }
   ],
   "source": [
    "port.show_ticks()"
   ]
  },
  {
   "cell_type": "markdown",
   "id": "ff09437d",
   "metadata": {},
   "source": [
    "Possible actions"
   ]
  },
  {
   "cell_type": "code",
   "execution_count": 39,
   "id": "a80c9625",
   "metadata": {},
   "outputs": [],
   "source": [
    "#port.ticks['SPY'].history(period='YTD')\n",
    "#port.tick_value('TSLA')\n",
    "#port.ticks_values()\n",
    "#port.tick_return('TSLA')\n",
    "#port.ticks_returns()\n",
    "#port.compare_ticks('TSLA','AMZN')\n",
    "#port.tick_info('LIT')"
   ]
  }
 ],
 "metadata": {
  "kernelspec": {
   "display_name": "Python 3",
   "language": "python",
   "name": "python3"
  },
  "language_info": {
   "codemirror_mode": {
    "name": "ipython",
    "version": 3
   },
   "file_extension": ".py",
   "mimetype": "text/x-python",
   "name": "python",
   "nbconvert_exporter": "python",
   "pygments_lexer": "ipython3",
   "version": "3.8.8"
  }
 },
 "nbformat": 4,
 "nbformat_minor": 5
}
